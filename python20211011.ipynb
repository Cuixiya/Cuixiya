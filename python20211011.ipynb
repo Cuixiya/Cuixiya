{
  "nbformat": 4,
  "nbformat_minor": 0,
  "metadata": {
    "colab": {
      "name": "python20211011.ipynb",
      "provenance": [],
      "include_colab_link": true
    },
    "kernelspec": {
      "name": "python3",
      "display_name": "Python 3"
    },
    "language_info": {
      "name": "python"
    }
  },
  "cells": [
    {
      "cell_type": "markdown",
      "metadata": {
        "id": "view-in-github",
        "colab_type": "text"
      },
      "source": [
        "<a href=\"https://colab.research.google.com/github/Cuixiya/Cuixiya/blob/main/python20211011.ipynb\" target=\"_parent\"><img src=\"https://colab.research.google.com/assets/colab-badge.svg\" alt=\"Open In Colab\"/></a>"
      ]
    },
    {
      "cell_type": "markdown",
      "metadata": {
        "id": "ap5vxORM2n0S"
      },
      "source": [
        "# python Data Type\n",
        "\n",
        "Date: 20211011\n",
        "\n",
        "Name: Trishia Beating"
      ]
    },
    {
      "cell_type": "markdown",
      "metadata": {
        "id": "n-ioHh-8K7j4"
      },
      "source": [
        "# 1_Numerics Data Type"
      ]
    },
    {
      "cell_type": "markdown",
      "metadata": {
        "id": "mOClob_U5ywc"
      },
      "source": [
        "# Arithmetic operators"
      ]
    },
    {
      "cell_type": "code",
      "metadata": {
        "colab": {
          "base_uri": "https://localhost:8080/"
        },
        "id": "o8wCb6NC1l3W",
        "outputId": "64499af2-c3ac-482a-cf08-39757e8f52e4"
      },
      "source": [
        "a = 17 / 6\n",
        "a"
      ],
      "execution_count": null,
      "outputs": [
        {
          "output_type": "execute_result",
          "data": {
            "text/plain": [
              "2.8333333333333335"
            ]
          },
          "metadata": {},
          "execution_count": 169
        }
      ]
    },
    {
      "cell_type": "code",
      "metadata": {
        "colab": {
          "base_uri": "https://localhost:8080/"
        },
        "id": "jTB7zKuA25k5",
        "outputId": "def30d54-0930-4021-d164-092758bf801a"
      },
      "source": [
        "b = 17 // 6\n",
        "b"
      ],
      "execution_count": null,
      "outputs": [
        {
          "output_type": "execute_result",
          "data": {
            "text/plain": [
              "2"
            ]
          },
          "metadata": {},
          "execution_count": 170
        }
      ]
    },
    {
      "cell_type": "code",
      "metadata": {
        "colab": {
          "base_uri": "https://localhost:8080/"
        },
        "id": "wP3VEYdn3NyK",
        "outputId": "b113137f-8b8d-41cd-ce03-0a55cfa1e2ef"
      },
      "source": [
        "c = 17 % 6\n",
        "c"
      ],
      "execution_count": null,
      "outputs": [
        {
          "output_type": "execute_result",
          "data": {
            "text/plain": [
              "5"
            ]
          },
          "metadata": {},
          "execution_count": 171
        }
      ]
    },
    {
      "cell_type": "markdown",
      "metadata": {
        "id": "NpJNHJ37532n"
      },
      "source": [
        "# Logical operators"
      ]
    },
    {
      "cell_type": "code",
      "metadata": {
        "colab": {
          "base_uri": "https://localhost:8080/"
        },
        "id": "6-xqXL3L3Ns5",
        "outputId": "6e9f6ca1-ef70-4a5b-d531-92d63062969d"
      },
      "source": [
        "x = 6\n",
        "print(x > 2 and x < 10)"
      ],
      "execution_count": null,
      "outputs": [
        {
          "output_type": "stream",
          "name": "stdout",
          "text": [
            "True\n"
          ]
        }
      ]
    },
    {
      "cell_type": "code",
      "metadata": {
        "colab": {
          "base_uri": "https://localhost:8080/"
        },
        "id": "hKjIyLaf6G-S",
        "outputId": "ea7b1a52-decd-4fa0-ad23-0bfa1ad86f02"
      },
      "source": [
        "x = 6\n",
        "print(x > 2 and x > 10) m"
      ],
      "execution_count": null,
      "outputs": [
        {
          "output_type": "stream",
          "name": "stdout",
          "text": [
            "False\n"
          ]
        }
      ]
    },
    {
      "cell_type": "code",
      "metadata": {
        "colab": {
          "base_uri": "https://localhost:8080/"
        },
        "id": "rlaCeIR125dY",
        "outputId": "81c05961-ed00-40bb-fc81-371451da0968"
      },
      "source": [
        "x = 6\n",
        "print(x < 2 or x > 10)"
      ],
      "execution_count": null,
      "outputs": [
        {
          "output_type": "stream",
          "name": "stdout",
          "text": [
            "False\n"
          ]
        }
      ]
    },
    {
      "cell_type": "markdown",
      "metadata": {
        "id": "KeNxxIWC96BE"
      },
      "source": [
        "# Built-in functions\n",
        "\n",
        "Python has many Built-in functions"
      ]
    },
    {
      "cell_type": "code",
      "metadata": {
        "colab": {
          "base_uri": "https://localhost:8080/",
          "height": 35
        },
        "id": "fQrXfNhs-bha",
        "outputId": "d8b2872f-8e69-4731-a1bd-2261fe4ca845"
      },
      "source": [
        "bin(7)"
      ],
      "execution_count": null,
      "outputs": [
        {
          "output_type": "execute_result",
          "data": {
            "application/vnd.google.colaboratory.intrinsic+json": {
              "type": "string"
            },
            "text/plain": [
              "'0b111'"
            ]
          },
          "metadata": {},
          "execution_count": 175
        }
      ]
    },
    {
      "cell_type": "code",
      "metadata": {
        "colab": {
          "base_uri": "https://localhost:8080/"
        },
        "id": "BrVDpRkL-uMj",
        "outputId": "55d55241-be0a-40ce-acb7-22895f3b381e"
      },
      "source": [
        "int(0b111110010111001010101)"
      ],
      "execution_count": null,
      "outputs": [
        {
          "output_type": "execute_result",
          "data": {
            "text/plain": [
              "2043477"
            ]
          },
          "metadata": {},
          "execution_count": 177
        }
      ]
    },
    {
      "cell_type": "markdown",
      "metadata": {
        "id": "evomhpGJDY-2"
      },
      "source": [
        "# 2_string data type"
      ]
    },
    {
      "cell_type": "code",
      "metadata": {
        "colab": {
          "base_uri": "https://localhost:8080/",
          "height": 35
        },
        "id": "4HQV_41cDccI",
        "outputId": "c47d0d96-b27d-4d33-b9b2-3d69e5f209f5"
      },
      "source": [
        "str3 = 'allows embedded \"double\" quotes'\n",
        "str3"
      ],
      "execution_count": null,
      "outputs": [
        {
          "output_type": "execute_result",
          "data": {
            "application/vnd.google.colaboratory.intrinsic+json": {
              "type": "string"
            },
            "text/plain": [
              "'allows embedded \"double\" quotes'"
            ]
          },
          "metadata": {},
          "execution_count": 12
        }
      ]
    },
    {
      "cell_type": "markdown",
      "metadata": {
        "id": "8T9SYUxOE_Wm"
      },
      "source": [
        "## operation on strings\n",
        "\n",
        "index "
      ]
    },
    {
      "cell_type": "code",
      "metadata": {
        "colab": {
          "base_uri": "https://localhost:8080/"
        },
        "id": "qtuw189UDlt7",
        "outputId": "f3889578-ca02-4b1c-9ed7-bfde888cd5a7"
      },
      "source": [
        "var1 = 'thank you, lao shi!'\n",
        "\n",
        "print(\"var1[1]: \", var1[1])\n",
        "print(\"var1[2]: \", var1[2])\n",
        "print(\"var1[4]: \", var1[4])\n",
        "print(\"var1[6]: \", var1[6])\n",
        "print(\"var1[7]: \", var1[7])"
      ],
      "execution_count": null,
      "outputs": [
        {
          "output_type": "stream",
          "name": "stdout",
          "text": [
            "var1[1]:  h\n",
            "var1[2]:  a\n",
            "var1[4]:  k\n",
            "var1[6]:  y\n",
            "var1[7]:  o\n"
          ]
        }
      ]
    },
    {
      "cell_type": "markdown",
      "metadata": {
        "id": "ZtwTzQlrFDb8"
      },
      "source": [
        "## slice operation"
      ]
    },
    {
      "cell_type": "code",
      "metadata": {
        "colab": {
          "base_uri": "https://localhost:8080/"
        },
        "id": "bV0jsobyEHPq",
        "outputId": "9164836f-ed51-42ed-a338-0353bdda3997"
      },
      "source": [
        "b = \"my name is trishia!\"\n",
        "#print(b[2:3])\n",
        "#print(b[:2])\n",
        "#print(b[7:])\n",
        "print(b[-6:-5])"
      ],
      "execution_count": null,
      "outputs": [
        {
          "output_type": "stream",
          "name": "stdout",
          "text": [
            "i\n"
          ]
        }
      ]
    },
    {
      "cell_type": "markdown",
      "metadata": {
        "id": "Qz4VT0GOFxLa"
      },
      "source": [
        "## Python string method\n",
        "\n",
        "https://www.w3schools.com/python/python_strings_methods.asp"
      ]
    },
    {
      "cell_type": "markdown",
      "metadata": {
        "id": "mVI-UTMFGEkB"
      },
      "source": [
        "## capitalize()\tConverts the first character to upper case"
      ]
    },
    {
      "cell_type": "code",
      "metadata": {
        "colab": {
          "base_uri": "https://localhost:8080/"
        },
        "id": "_WCxSaocGHQv",
        "outputId": "6dc0bb7d-7381-4eff-8ac9-9f74697f895e"
      },
      "source": [
        "txt = \"we are one.\"\n",
        "\n",
        "x = txt.capitalize()\n",
        "\n",
        "print (x)"
      ],
      "execution_count": null,
      "outputs": [
        {
          "output_type": "stream",
          "name": "stdout",
          "text": [
            "We are one.\n"
          ]
        }
      ]
    },
    {
      "cell_type": "markdown",
      "metadata": {
        "id": "Md8mDAxjHCsE"
      },
      "source": [
        "## Python String join() Method\n",
        "\n"
      ]
    },
    {
      "cell_type": "code",
      "metadata": {
        "colab": {
          "base_uri": "https://localhost:8080/"
        },
        "id": "UWA-gfVNHM0K",
        "outputId": "9b824e6e-f5d0-4f3f-97f5-34ae1b9e6571"
      },
      "source": [
        "myTuple = (\"trixie\", \"troy\", \"trishia\", \"tiffanny\")\n",
        "\n",
        "x = \"#\".join(myTuple)\n",
        "\n",
        "print(x)"
      ],
      "execution_count": null,
      "outputs": [
        {
          "output_type": "stream",
          "name": "stdout",
          "text": [
            "trixie#troy#trishia#tiffanny\n"
          ]
        }
      ]
    },
    {
      "cell_type": "code",
      "metadata": {
        "colab": {
          "base_uri": "https://localhost:8080/"
        },
        "id": "PENmOu5cHjZy",
        "outputId": "49ebcb94-1f87-44ed-d019-5f41cd5904b5"
      },
      "source": [
        "txt = \"jollibee\"\n",
        "\n",
        "x = txt.ljust(20)\n",
        "\n",
        "print(x, \"is my favorite fast food chain.\")"
      ],
      "execution_count": null,
      "outputs": [
        {
          "output_type": "stream",
          "name": "stdout",
          "text": [
            "jollibee             is my favorite fast food chain.\n"
          ]
        }
      ]
    },
    {
      "cell_type": "code",
      "metadata": {
        "colab": {
          "base_uri": "https://localhost:8080/"
        },
        "id": "8sBOwnsrIAwD",
        "outputId": "ba15fca0-f7fb-4125-bad0-be742ed04ef2"
      },
      "source": [
        "txt = \"     apple     \"\n",
        "\n",
        "x = txt.lstrip()\n",
        "\n",
        "print(\"of all fruits\", x, \"is my favorite\")"
      ],
      "execution_count": null,
      "outputs": [
        {
          "output_type": "stream",
          "name": "stdout",
          "text": [
            "of all fruits apple      is my favorite\n"
          ]
        }
      ]
    },
    {
      "cell_type": "markdown",
      "metadata": {
        "id": "UeDlPHiHKy80"
      },
      "source": [
        "# 3_list data type"
      ]
    },
    {
      "cell_type": "code",
      "metadata": {
        "colab": {
          "base_uri": "https://localhost:8080/"
        },
        "id": "nt2FXhktLBDR",
        "outputId": "b73533a7-03d6-4cc6-d29f-515fb3cacc94"
      },
      "source": [
        "list1 = [11, 25, 14, 12, 32, 10]\n",
        "\n",
        "list1[1]"
      ],
      "execution_count": null,
      "outputs": [
        {
          "output_type": "execute_result",
          "data": {
            "text/plain": [
              "25"
            ]
          },
          "metadata": {},
          "execution_count": 193
        }
      ]
    },
    {
      "cell_type": "markdown",
      "metadata": {
        "id": "f3cFTOOtLzq4"
      },
      "source": [
        "## slice operation"
      ]
    },
    {
      "cell_type": "code",
      "metadata": {
        "colab": {
          "base_uri": "https://localhost:8080/"
        },
        "id": "UbrGXXctLV-O",
        "outputId": "38c90b97-e00f-4bdb-803f-16c16e028e7e"
      },
      "source": [
        "list1[3:6]"
      ],
      "execution_count": null,
      "outputs": [
        {
          "output_type": "execute_result",
          "data": {
            "text/plain": [
              "[12, 32, 10]"
            ]
          },
          "metadata": {},
          "execution_count": 194
        }
      ]
    },
    {
      "cell_type": "markdown",
      "metadata": {
        "id": "UpO0-IjvLkoH"
      },
      "source": [
        "## list built-in functions"
      ]
    },
    {
      "cell_type": "code",
      "metadata": {
        "colab": {
          "base_uri": "https://localhost:8080/"
        },
        "id": "vOLOY_1jLjZi",
        "outputId": "cdddd1eb-b212-40a3-c244-f32fc09363d3"
      },
      "source": [
        "len(list2)"
      ],
      "execution_count": null,
      "outputs": [
        {
          "output_type": "execute_result",
          "data": {
            "text/plain": [
              "6"
            ]
          },
          "metadata": {},
          "execution_count": 196
        }
      ]
    },
    {
      "cell_type": "code",
      "metadata": {
        "colab": {
          "base_uri": "https://localhost:8080/"
        },
        "id": "7iGhV6Y5LsET",
        "outputId": "09b31767-8ba1-43c8-ab45-05f7d21b0efa"
      },
      "source": [
        "max(list2)"
      ],
      "execution_count": null,
      "outputs": [
        {
          "output_type": "execute_result",
          "data": {
            "text/plain": [
              "98"
            ]
          },
          "metadata": {},
          "execution_count": 197
        }
      ]
    },
    {
      "cell_type": "code",
      "metadata": {
        "colab": {
          "base_uri": "https://localhost:8080/"
        },
        "id": "KApdVP0MLtRm",
        "outputId": "027a79b4-5c32-41bf-9ff3-56d79922f6b2"
      },
      "source": [
        "min(list2)"
      ],
      "execution_count": null,
      "outputs": [
        {
          "output_type": "execute_result",
          "data": {
            "text/plain": [
              "12"
            ]
          },
          "metadata": {},
          "execution_count": 198
        }
      ]
    },
    {
      "cell_type": "code",
      "metadata": {
        "colab": {
          "base_uri": "https://localhost:8080/"
        },
        "id": "wqvGpxJ9Nlol",
        "outputId": "1ddb6809-0a18-42f4-8735-bbe71272a63c"
      },
      "source": [
        "dict = {'Name': 'Trishia Beating', 'Age': 19, 'Class': 'First'}\n",
        "print(\"dict['Name']: \", dict['Name'])\n",
        "print(\"dict['Age']: \", dict['Age'])\n",
        "print(\"dict['Class']: \", dict['Class'])"
      ],
      "execution_count": null,
      "outputs": [
        {
          "output_type": "stream",
          "name": "stdout",
          "text": [
            "dict['Name']:  Trishia Beating\n",
            "dict['Age']:  19\n",
            "dict['Class']:  First\n"
          ]
        }
      ]
    }
  ]
}