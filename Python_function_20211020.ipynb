{
  "nbformat": 4,
  "nbformat_minor": 0,
  "metadata": {
    "colab": {
      "name": "Python_function:20211020.ipynb",
      "provenance": [],
      "collapsed_sections": [],
      "authorship_tag": "ABX9TyNugZNI8x466/c0UzXUug9p",
      "include_colab_link": true
    },
    "kernelspec": {
      "name": "python3",
      "display_name": "Python 3"
    },
    "language_info": {
      "name": "python"
    }
  },
  "cells": [
    {
      "cell_type": "markdown",
      "metadata": {
        "id": "view-in-github",
        "colab_type": "text"
      },
      "source": [
        "<a href=\"https://colab.research.google.com/github/Cuixiya/Cuixiya/blob/main/Python_function_20211020.ipynb\" target=\"_parent\"><img src=\"https://colab.research.google.com/assets/colab-badge.svg\" alt=\"Open In Colab\"/></a>"
      ]
    },
    {
      "cell_type": "code",
      "metadata": {
        "colab": {
          "base_uri": "https://localhost:8080/"
        },
        "id": "Jvf4XtolRyJU",
        "outputId": "638ddcb2-ea02-42cf-a9c2-3e7cd33fb999"
      },
      "source": [
        "def sum(i1, i2):\n",
        "    result = 0\n",
        "    for i in range(i1, i2):\n",
        "        result += i\n",
        "    return result\n",
        "\n",
        "def main():\n",
        "    print(\"Sum from 7 to 14 is\", sum(7, 15)) \n",
        "    print(\"Sum from 25 to 50 is\", sum(25, 51))\n",
        "    print(\"Sum from 30 to 49 is\", sum(30, 50))\n",
        "\n",
        "main() # Call the main function"
      ],
      "execution_count": null,
      "outputs": [
        {
          "output_type": "stream",
          "name": "stdout",
          "text": [
            "Sum from 7 to 14 is 84\n",
            "Sum from 25 to 50 is 975\n",
            "Sum from 30 to 49 is 790\n"
          ]
        }
      ]
    },
    {
      "cell_type": "code",
      "metadata": {
        "colab": {
          "base_uri": "https://localhost:8080/"
        },
        "id": "ILHXyQldSFk0",
        "outputId": "598cb9f5-22a2-46b5-c7be-0f849e67490d"
      },
      "source": [
        "def sum(i1, i2, i3):\n",
        "    result = 0\n",
        "    for i in range(i1, i2, i3):\n",
        "        result += i\n",
        "    return result\n",
        "\n",
        "def main():\n",
        "    print(\"Sum1\", sum(1, 11, 1)) \n",
        "    print(\"Sum2\", sum(20, 38, 20))\n",
        "    print(\"Sum3\", sum(35, 50, 35))\n",
        "\n",
        "main() # Call the main function"
      ],
      "execution_count": null,
      "outputs": [
        {
          "output_type": "stream",
          "name": "stdout",
          "text": [
            "Sum1 55\n",
            "Sum2 20\n",
            "Sum3 35\n"
          ]
        }
      ]
    },
    {
      "cell_type": "code",
      "metadata": {
        "colab": {
          "base_uri": "https://localhost:8080/"
        },
        "id": "C3wFR9gbZ4yf",
        "outputId": "c07938f0-e930-4c6b-a7c4-d70116da925e"
      },
      "source": [
        "def swap(t,b):\n",
        "  t,b = b,t\n",
        "  return (t,b)\n",
        "\n",
        "if __name__ == '__main__':\n",
        "    x = 25\n",
        "    y = 50\n",
        "    print('x = %d,y = %d' % (x,y))\n",
        "    x,y = swap(x,y)\n",
        "    print('x = %d,y = %d' % (x,y))"
      ],
      "execution_count": null,
      "outputs": [
        {
          "output_type": "stream",
          "name": "stdout",
          "text": [
            "x = 25,y = 50\n",
            "x = 50,y = 25\n"
          ]
        }
      ]
    },
    {
      "cell_type": "code",
      "metadata": {
        "colab": {
          "base_uri": "https://localhost:8080/"
        },
        "id": "Iq6SQhuCaENk",
        "outputId": "6a286f43-5baf-44fe-83bb-6b8b79f3ce75"
      },
      "source": [
        "def sort(number1, number2):\n",
        "    if number1 < number2:\n",
        "        return number1, number2\n",
        "    else:\n",
        "        return number2, number1\n",
        "\n",
        "num1, num2 = sort(85, 95)\n",
        "\n",
        "print(\"num1 is\", num2)\n",
        "print(\"num2 is\", num1)"
      ],
      "execution_count": null,
      "outputs": [
        {
          "output_type": "stream",
          "name": "stdout",
          "text": [
            "num1 is 95\n",
            "num2 is 85\n"
          ]
        }
      ]
    },
    {
      "cell_type": "code",
      "metadata": {
        "colab": {
          "base_uri": "https://localhost:8080/"
        },
        "id": "LJOzbfbSaYTz",
        "outputId": "1a58917f-cf6c-4af1-f693-562bfcca01a6"
      },
      "source": [
        "def sort(number1, number2, number3):\n",
        "    if (number1 < number3) and (number1 < number2):\n",
        "      if number2 < number3:\n",
        "        return number1, number2,number3\n",
        "      else:\n",
        "        return number1, number3,number2\n",
        "    if (number2 < number1) and (number2 < number3):\n",
        "      if number1 < number3:\n",
        "        return number2, number1,number3\n",
        "      else:\n",
        "        return number2, number3,number1    \n",
        "    if (number3 < number1) and (number3 < number2):\n",
        "      if number1 < number2:\n",
        "        return number3, number1,number2\n",
        "      else:\n",
        "        return number3, number2,number1 \n",
        "\n",
        "num1, num2, num3  = sort(22,13,26)\n",
        "\n",
        "print(\"num1 is\", num2)\n",
        "print(\"num2 is\", num3)\n",
        "print(\"num3 is\", num1)"
      ],
      "execution_count": null,
      "outputs": [
        {
          "output_type": "stream",
          "name": "stdout",
          "text": [
            "num1 is 22\n",
            "num2 is 26\n",
            "num3 is 13\n"
          ]
        }
      ]
    },
    {
      "cell_type": "code",
      "metadata": {
        "id": "bj7roLwDgap9"
      },
      "source": [
        "def printArea(width = 30, height = 31):\n",
        "    area = width * height\n",
        "    print(\"width:\", width, \"\\theight:\", height, \"\\tarea:\", area)"
      ],
      "execution_count": null,
      "outputs": []
    },
    {
      "cell_type": "markdown",
      "metadata": {
        "id": "IQ2h0outgfz0"
      },
      "source": [
        "Use Default argument"
      ]
    },
    {
      "cell_type": "code",
      "metadata": {
        "colab": {
          "base_uri": "https://localhost:8080/"
        },
        "id": "OJl7M0G2gi8D",
        "outputId": "b7b59cf6-97a8-452a-85c0-61db7567155e"
      },
      "source": [
        "printArea()"
      ],
      "execution_count": null,
      "outputs": [
        {
          "output_type": "stream",
          "name": "stdout",
          "text": [
            "width: 30 \theight: 31 \tarea: 930\n"
          ]
        }
      ]
    },
    {
      "cell_type": "markdown",
      "metadata": {
        "id": "jCnHjWUFgp6Q"
      },
      "source": [
        "Use Keyword argument"
      ]
    },
    {
      "cell_type": "code",
      "metadata": {
        "id": "sSzusW00iYnY",
        "colab": {
          "base_uri": "https://localhost:8080/"
        },
        "outputId": "9aed803b-d02c-4186-dac1-61ad4419b1fe"
      },
      "source": [
        "printArea(width = 30, height = 31)"
      ],
      "execution_count": null,
      "outputs": [
        {
          "output_type": "stream",
          "name": "stdout",
          "text": [
            "width: 30 \theight: 31 \tarea: 930\n"
          ]
        }
      ]
    },
    {
      "cell_type": "code",
      "metadata": {
        "colab": {
          "base_uri": "https://localhost:8080/"
        },
        "id": "yCp6AUXkjBVO",
        "outputId": "88fcb853-cd0e-4abc-ef83-a27676e0ea38"
      },
      "source": [
        "printArea(height = 31, width = 30)"
      ],
      "execution_count": null,
      "outputs": [
        {
          "output_type": "stream",
          "name": "stdout",
          "text": [
            "width: 30 \theight: 31 \tarea: 930\n"
          ]
        }
      ]
    },
    {
      "cell_type": "markdown",
      "metadata": {
        "id": "N0krh5i-jHRH"
      },
      "source": [
        "Use Positional argument"
      ]
    },
    {
      "cell_type": "code",
      "metadata": {
        "colab": {
          "base_uri": "https://localhost:8080/"
        },
        "id": "QgyjzoiQjJBY",
        "outputId": "8e46b868-7a34-477d-df92-474645211a47"
      },
      "source": [
        "printArea(30,31)"
      ],
      "execution_count": null,
      "outputs": [
        {
          "output_type": "stream",
          "name": "stdout",
          "text": [
            "width: 30 \theight: 31 \tarea: 930\n"
          ]
        }
      ]
    },
    {
      "cell_type": "code",
      "metadata": {
        "colab": {
          "base_uri": "https://localhost:8080/"
        },
        "id": "_Kr7zZj7jRJ9",
        "outputId": "d09143d4-257e-4bde-99d8-b0358932a591"
      },
      "source": [
        "printArea(31,30)"
      ],
      "execution_count": null,
      "outputs": [
        {
          "output_type": "stream",
          "name": "stdout",
          "text": [
            "width: 31 \theight: 30 \tarea: 930\n"
          ]
        }
      ]
    },
    {
      "cell_type": "markdown",
      "metadata": {
        "id": "urub20SSkpAs"
      },
      "source": [
        "Lambda Function"
      ]
    },
    {
      "cell_type": "code",
      "metadata": {
        "id": "rHzTXqA8krCO",
        "colab": {
          "base_uri": "https://localhost:8080/"
        },
        "outputId": "62e1df4a-55a8-4743-e4e2-64c6134f411d"
      },
      "source": [
        "f1 = lambda l, m, n: l+4*m+6*n\n",
        "print(f1(2,3,1))"
      ],
      "execution_count": null,
      "outputs": [
        {
          "output_type": "stream",
          "name": "stdout",
          "text": [
            "20\n"
          ]
        }
      ]
    },
    {
      "cell_type": "code",
      "metadata": {
        "colab": {
          "base_uri": "https://localhost:8080/"
        },
        "id": "IoArKLSdl0_y",
        "outputId": "7863203f-91fd-4ed0-b006-ba67e477c52f"
      },
      "source": [
        "def myfunc(m):\n",
        "    return m*m\n",
        "\n",
        "my_list = [25, 7, 13, 22, 26]\n",
        "\n",
        "## 使用python的map()\n",
        "\n",
        "print(list(map(lambda x:myfunc(x), my_list)))"
      ],
      "execution_count": null,
      "outputs": [
        {
          "output_type": "stream",
          "name": "stdout",
          "text": [
            "[625, 49, 169, 484, 676]\n"
          ]
        }
      ]
    }
  ]
}